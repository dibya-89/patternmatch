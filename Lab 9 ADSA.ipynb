{
 "cells": [
  {
   "cell_type": "code",
   "execution_count": 2,
   "id": "0b19f02a",
   "metadata": {},
   "outputs": [
    {
     "name": "stdout",
     "output_type": "stream",
     "text": [
      "Enter your String: My Name is Dibya\n",
      "The string you enter My Name is Dibya\n",
      "Enter what pattern do you want to find a character or a word: A\n",
      "You are searcing for  A\n",
      "Do you want to continue? yes/no > no\n",
      "Bye for now. See you soon.\n"
     ]
    }
   ],
   "source": [
    "d = 256\n",
    " \n",
    "def pattern_search(pat, txt, q):\n",
    "    M = len(pat)\n",
    "    N = len(txt)\n",
    "    i = 0\n",
    "    j = 0\n",
    "    p = 0    \n",
    "    t = 0   \n",
    "    h = 1\n",
    " \n",
    "   \n",
    "    for i in range(M-1):\n",
    "        h = (h*d) % q\n",
    " \n",
    "    # Calculate the hash value of pattern and first window\n",
    "\n",
    "    for i in range(M):\n",
    "        p = (d*p + ord(pat[i])) % q\n",
    "        t = (d*t + ord(txt[i])) % q\n",
    " \n",
    "    # Slide the pattern over text one by one\n",
    "    for i in range(N-M+1):\n",
    "        # Check the hash values of current window of text and pattern if the hash values match then only check for characters one by one\n",
    "        if p == t:\n",
    "            # Check for characters one by one\n",
    "            for j in range(M):\n",
    "                if txt[i+j] != pat[j]:\n",
    "                    break\n",
    "                else:\n",
    "                    j += 1\n",
    " \n",
    "            \n",
    "            if j == M:\n",
    "                print(\"Pattern found at index \" + str(i))\n",
    "            else:\n",
    "                print(\"Pattern not Found\")\n",
    "            \n",
    "       \n",
    "        if i < N-M:\n",
    "            t = (d*(t-ord(txt[i])*h) + ord(txt[i+M])) % q\n",
    " \n",
    "            \n",
    "            if t < 0:\n",
    "                t = t+q\n",
    "while True:\n",
    "    \n",
    "    txt = input(\"Enter your String: \")\n",
    "    print('The string you enter',txt)                \n",
    "    #txt = \"Dibya is my Name\"\n",
    "    #pat = \"a\"\n",
    "    pat= input(\"Enter what pattern do you want to find a character or a word: \")\n",
    "    print('You are searcing for ', pat)\n",
    "    # A prime number\n",
    "    q = 101\n",
    "\n",
    "    # Function Call\n",
    "    pattern_search(pat, txt, q)\n",
    "    \n",
    "    # Code for While Loop\n",
    "    cont = input(\"Do you want to continue? yes/no > \")\n",
    "\n",
    "    while cont.lower() not in (\"yes\", \"no\"):\n",
    "        cont = input(\"Do you want to continue? yes/no > \")\n",
    "    if cont == \"no\":\n",
    "        print(\"Bye for now. See you soon.\")\n",
    "        break\n",
    " "
   ]
  },
  {
   "cell_type": "code",
   "execution_count": null,
   "id": "6165ada2",
   "metadata": {},
   "outputs": [],
   "source": []
  }
 ],
 "metadata": {
  "kernelspec": {
   "display_name": "Python 3 (ipykernel)",
   "language": "python",
   "name": "python3"
  },
  "language_info": {
   "codemirror_mode": {
    "name": "ipython",
    "version": 3
   },
   "file_extension": ".py",
   "mimetype": "text/x-python",
   "name": "python",
   "nbconvert_exporter": "python",
   "pygments_lexer": "ipython3",
   "version": "3.9.7"
  }
 },
 "nbformat": 4,
 "nbformat_minor": 5
}
